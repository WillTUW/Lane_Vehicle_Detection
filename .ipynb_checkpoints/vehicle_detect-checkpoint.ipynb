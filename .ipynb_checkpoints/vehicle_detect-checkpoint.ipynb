{
 "cells": [
  {
   "cell_type": "markdown",
   "metadata": {},
   "source": [
    "# Detecting and Localizing Vehicles"
   ]
  },
  {
   "cell_type": "code",
   "execution_count": 1,
   "metadata": {},
   "outputs": [],
   "source": [
    "import numpy as np\n",
    "import cv2\n",
    "import os\n",
    "import sys\n",
    "import matplotlib.pyplot as plt\n",
    "import imageio"
   ]
  },
  {
   "cell_type": "code",
   "execution_count": 2,
   "metadata": {},
   "outputs": [
    {
     "name": "stdout",
     "output_type": "stream",
     "text": [
      "OpenCV Version:\t 3.4.3\n"
     ]
    }
   ],
   "source": [
    "print(\"OpenCV Version:\\t\",cv2.__version__)"
   ]
  },
  {
   "cell_type": "code",
   "execution_count": 3,
   "metadata": {},
   "outputs": [],
   "source": [
    "def display_imgs(img_list, labels=[],cols=5, fig_size=(30,30)):\n",
    "    cmap = None\n",
    "    rows = len(img_list) / cols\n",
    "    plt.figure(figsize=fig_size)\n",
    "    plt.subplots_adjust(left=0.0,right=0.5,wspace=0.0,hspace=0.2)\n",
    "    for i in range(len(img_list)):\n",
    "        plt.subplot(rows, cols, i+1)\n",
    "        if len(img_list[i].shape) == 2:\n",
    "            cmap = 'gray'\n",
    "        if len(labels) > 0:\n",
    "            plt.title(labels[i])\n",
    "        plt.imshow(img_list[i], cmap=cmap)\n",
    "    #plt.tight_layout()\n",
    "    plt.show()"
   ]
  },
  {
   "cell_type": "code",
   "execution_count": 4,
   "metadata": {},
   "outputs": [],
   "source": [
    "vehicle_dataset_location = \"datasets/svm_data/vehicles/vehicles/\"\n",
    "non_vehicle_dataset_location = \"datasets/svm_data/non-vehicles/non-vehicles/\""
   ]
  },
  {
   "cell_type": "code",
   "execution_count": 5,
   "metadata": {},
   "outputs": [],
   "source": [
    "def get_dataset(dir_loc,debug=False):\n",
    "    images = []\n",
    "    count = 0\n",
    "    for dir in os.listdir(dir_loc):\n",
    "        if(dir != \".DS_Store\"):\n",
    "            for data_type in os.listdir(dir_loc+dir):\n",
    "                if(data_type != \".DS_Store\"):\n",
    "                    if(count == 5):\n",
    "                        return images\n",
    "                    curr_im = cv2.imread(dir_loc+dir+'/'+data_type)\n",
    "                    images.append(curr_im)\n",
    "                    if(debug):\n",
    "                        count += 1\n",
    "    return images"
   ]
  },
  {
   "cell_type": "code",
   "execution_count": 6,
   "metadata": {},
   "outputs": [
    {
     "name": "stdout",
     "output_type": "stream",
     "text": [
      "vehicles shape =  (5, 64, 64, 3)\n",
      "non_vehicles shape =  (5, 64, 64, 3)\n"
     ]
    }
   ],
   "source": [
    "vehicles = get_dataset(vehicle_dataset_location,True)\n",
    "non_vehicles = get_dataset(non_vehicle_dataset_location,True)\n",
    "vehicles = np.array(vehicles)\n",
    "non_vehicles = np.array(non_vehicles)\n",
    "print(\"vehicles shape = \", vehicles.shape)\n",
    "print(\"non_vehicles shape = \", non_vehicles.shape)"
   ]
  },
  {
   "cell_type": "code",
   "execution_count": 7,
   "metadata": {},
   "outputs": [
    {
     "name": "stdout",
     "output_type": "stream",
     "text": [
      "vehicles labels shape =  (5,)\n",
      "non_vehicles labels shape =  (5,)\n"
     ]
    }
   ],
   "source": [
    "vehicle_labels = np.ones((len(vehicles),))\n",
    "non_vehicle_labels = np.zeros((len(non_vehicles,)))\n",
    "print(\"vehicles labels shape = \", vehicle_labels.shape)\n",
    "print(\"non_vehicles labels shape = \", non_vehicle_labels.shape)"
   ]
  },
  {
   "cell_type": "code",
   "execution_count": 8,
   "metadata": {},
   "outputs": [
    {
     "name": "stdout",
     "output_type": "stream",
     "text": [
      "x_data shape =  (10, 64, 64, 3)\n",
      "y_data shape =  (10,)\n"
     ]
    }
   ],
   "source": [
    "x_data = np.concatenate((vehicles,non_vehicles))\n",
    "y_data = np.concatenate((vehicle_labels,non_vehicle_labels))\n",
    "print(\"x_data shape = \", x_data.shape)\n",
    "print(\"y_data shape = \", y_data.shape)"
   ]
  },
  {
   "cell_type": "code",
   "execution_count": 24,
   "metadata": {},
   "outputs": [],
   "source": [
    "# Convert to HOG\n",
    "winSize = (64,64)\n",
    "blockSize = (16,16)\n",
    "blockStride = (8,8)\n",
    "cellSize = (8,8)\n",
    "nbins = 9\n",
    "derivAperture = 1\n",
    "winSigma = 4.\n",
    "histogramNormType = 0\n",
    "L2HysThreshold = 2.0000000000000001e-01\n",
    "gammaCorrection = 0\n",
    "nlevels = 64\n",
    "hog = cv2.HOGDescriptor(winSize,blockSize,blockStride,cellSize,nbins,derivAperture,winSigma,\n",
    "                        histogramNormType,L2HysThreshold,gammaCorrection,nlevels)\n",
    "\n",
    "#hog = cv2.HOGDescriptor(winSize,blockStride,cellSize)"
   ]
  },
  {
   "cell_type": "code",
   "execution_count": 35,
   "metadata": {},
   "outputs": [],
   "source": [
    "winStride = (8,8)\n",
    "padding = (0,0)\n",
    "locations = []#((10,20),)\n"
   ]
  },
  {
   "cell_type": "code",
   "execution_count": 46,
   "metadata": {},
   "outputs": [
    {
     "data": {
      "text/plain": [
       "array([[0.10909795],\n",
       "       [0.27520066],\n",
       "       [0.09469686],\n",
       "       ...,\n",
       "       [0.00369979],\n",
       "       [0.00933349],\n",
       "       [0.01603721]], dtype=float32)"
      ]
     },
     "execution_count": 46,
     "metadata": {},
     "output_type": "execute_result"
    }
   ],
   "source": [
    "hists = []\n",
    "\n",
    "for im in x_data:\n",
    "    gray_im = cv2.cvtColor(im,cv2.COLOR_BGR2GRAY)\n",
    "    hist = hog.compute(gray_im,winStride,padding,locations)\n",
    "    hists.append(hist)\n",
    "\n",
    "hists[0]"
   ]
  },
  {
   "cell_type": "code",
   "execution_count": 50,
   "metadata": {},
   "outputs": [
    {
     "name": "stdout",
     "output_type": "stream",
     "text": [
      "[[0.10909795]\n",
      " [0.27520066]\n",
      " [0.09469686]\n",
      " ...\n",
      " [0.00369979]\n",
      " [0.00933349]\n",
      " [0.01603721]]\n",
      "[0.5384441]\n",
      "[0.]\n"
     ]
    }
   ],
   "source": [
    "print(hists[0])\n",
    "print(max(hists[0]))\n",
    "print(min(hists[0]))"
   ]
  },
  {
   "cell_type": "code",
   "execution_count": null,
   "metadata": {},
   "outputs": [],
   "source": []
  }
 ],
 "metadata": {
  "kernelspec": {
   "display_name": "Python 3",
   "language": "python",
   "name": "python3"
  },
  "language_info": {
   "codemirror_mode": {
    "name": "ipython",
    "version": 3
   },
   "file_extension": ".py",
   "mimetype": "text/x-python",
   "name": "python",
   "nbconvert_exporter": "python",
   "pygments_lexer": "ipython3",
   "version": "3.5.2"
  }
 },
 "nbformat": 4,
 "nbformat_minor": 2
}
