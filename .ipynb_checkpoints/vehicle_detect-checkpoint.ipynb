{
 "cells": [
  {
   "cell_type": "markdown",
   "metadata": {},
   "source": [
    "# Detecting and Localizing Vehicles"
   ]
  },
  {
   "cell_type": "code",
   "execution_count": 1,
   "metadata": {},
   "outputs": [],
   "source": [
    "import numpy as np\n",
    "import cv2\n",
    "import os\n",
    "import sys\n",
    "import matplotlib.pyplot as plt\n",
    "import imageio"
   ]
  },
  {
   "cell_type": "code",
   "execution_count": 3,
   "metadata": {},
   "outputs": [
    {
     "name": "stdout",
     "output_type": "stream",
     "text": [
      "OpenCV Version:\t 3.4.3\n"
     ]
    }
   ],
   "source": [
    "print(\"OpenCV Version:\\t\",cv2.__version__)"
   ]
  },
  {
   "cell_type": "code",
   "execution_count": 4,
   "metadata": {},
   "outputs": [],
   "source": [
    "def display_imgs(img_list, labels=[],cols=5, fig_size=(30,30)):\n",
    "    cmap = None\n",
    "    rows = len(img_list) / cols\n",
    "    plt.figure(figsize=fig_size)\n",
    "    plt.subplots_adjust(left=0.0,right=0.5,wspace=0.0,hspace=0.2)\n",
    "    for i in range(len(img_list)):\n",
    "        plt.subplot(rows, cols, i+1)\n",
    "        if len(img_list[i].shape) == 2:\n",
    "            cmap = 'gray'\n",
    "        if len(labels) > 0:\n",
    "            plt.title(labels[i])\n",
    "        plt.imshow(img_list[i], cmap=cmap)\n",
    "    #plt.tight_layout()\n",
    "    plt.show()"
   ]
  },
  {
   "cell_type": "code",
   "execution_count": 5,
   "metadata": {},
   "outputs": [],
   "source": [
    "single_ex = True\n",
    "img_loc = ''\n",
    "img_loc2 = ''\n",
    "img_loc3 = ''\n",
    "imgs = []\n",
    "if(single_ex):\n",
    "    img_loc = 'Vehicle_Detection/images/lanes_1.jpg' # Good example\n",
    "    img_loc2 = 'Vehicle_Detection/images/input.jpg' # Curve Example \n",
    "    img_loc3 = 'datasets/vehicle/Sunny_LISA_3/Sunny_imgs/20191110215_1.png' # Non-working example\n",
    "else:\n",
    "    loc = 'datasets/udacity_challenge_video/challenge_frames/'\n",
    "    for f in os.listdir(loc):\n",
    "        img = cv2.imread(loc + f)\n",
    "        imgs.append(img)"
   ]
  },
  {
   "cell_type": "code",
   "execution_count": null,
   "metadata": {},
   "outputs": [],
   "source": []
  }
 ],
 "metadata": {
  "kernelspec": {
   "display_name": "Python 3",
   "language": "python",
   "name": "python3"
  },
  "language_info": {
   "codemirror_mode": {
    "name": "ipython",
    "version": 3
   },
   "file_extension": ".py",
   "mimetype": "text/x-python",
   "name": "python",
   "nbconvert_exporter": "python",
   "pygments_lexer": "ipython3",
   "version": "3.5.2"
  }
 },
 "nbformat": 4,
 "nbformat_minor": 2
}
